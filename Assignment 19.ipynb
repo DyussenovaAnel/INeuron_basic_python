{
 "cells": [
  {
   "cell_type": "markdown",
   "id": "0fb145df",
   "metadata": {},
   "source": [
    "**1. Make a class called Thing with no contents and print it. Then, create an object called example\n",
    "from this class and also print it. Are the printed values the same or different?**\n",
    "\n",
    "they are diffrent Thing - is a class, example is an object"
   ]
  },
  {
   "cell_type": "code",
   "execution_count": 7,
   "id": "13b92bf2",
   "metadata": {},
   "outputs": [],
   "source": [
    "class Thing:\n",
    "    pass"
   ]
  },
  {
   "cell_type": "code",
   "execution_count": 8,
   "id": "85eba7cc",
   "metadata": {},
   "outputs": [
    {
     "name": "stdout",
     "output_type": "stream",
     "text": [
      "<class '__main__.Thing'>\n"
     ]
    }
   ],
   "source": [
    "print(Thing)"
   ]
  },
  {
   "cell_type": "code",
   "execution_count": 9,
   "id": "5e427922",
   "metadata": {},
   "outputs": [
    {
     "name": "stdout",
     "output_type": "stream",
     "text": [
      "<__main__.Thing object at 0x0000023522342910>\n"
     ]
    }
   ],
   "source": [
    "example = Thing()\n",
    "print(example)"
   ]
  },
  {
   "cell_type": "markdown",
   "id": "9767b2b6",
   "metadata": {},
   "source": [
    "**2. Create a new class called Thing2 and add the value &#39;abc&#39; to the letters class attribute. Letters\n",
    "should be printed.**"
   ]
  },
  {
   "cell_type": "code",
   "execution_count": 11,
   "id": "5dc9028e",
   "metadata": {},
   "outputs": [
    {
     "data": {
      "text/plain": [
       "'abc'"
      ]
     },
     "execution_count": 11,
     "metadata": {},
     "output_type": "execute_result"
    }
   ],
   "source": [
    "class Thing2:\n",
    "    letters = 'abc'\n",
    "\n",
    "Thing2.letters"
   ]
  },
  {
   "cell_type": "markdown",
   "id": "85f99fde",
   "metadata": {},
   "source": [
    "**3. Make yet another class called, of course, Thing3. This time, assign the value 'xyz' to an instance\n",
    "(object) attribute called letters. Print letters. Do you need to make an object from the class to do\n",
    "this?** \n",
    "\n",
    "Yes, we need to make an object, or we will get an error - type object 'Thing3' has no attribute 'letters'"
   ]
  },
  {
   "cell_type": "code",
   "execution_count": 16,
   "id": "be6d6ebd",
   "metadata": {},
   "outputs": [
    {
     "data": {
      "text/plain": [
       "'xyz'"
      ]
     },
     "execution_count": 16,
     "metadata": {},
     "output_type": "execute_result"
    }
   ],
   "source": [
    "class Thing3:\n",
    "    def __init__(self, letters):\n",
    "        self.letters = letters\n",
    "\n",
    "l = Thing3('xyz')        \n",
    "l.letters"
   ]
  },
  {
   "cell_type": "markdown",
   "id": "fb7b5f1c",
   "metadata": {},
   "source": [
    "**4. Create an Element class with the instance attributes name, symbol, and number. Create a class\n",
    "object with the values 'Hydrogen', 'H,' and 1.**"
   ]
  },
  {
   "cell_type": "code",
   "execution_count": 19,
   "id": "bca79be5",
   "metadata": {},
   "outputs": [
    {
     "name": "stdout",
     "output_type": "stream",
     "text": [
      "<__main__.Element object at 0x00000235235BAD30>\n"
     ]
    }
   ],
   "source": [
    "class Element:\n",
    "    def __init__(self, name, symbol, number):\n",
    "        self.name = name\n",
    "        self.symbol = symbol\n",
    "        self.number = number\n",
    "\n",
    "e1 = Element('Hydrogen', 'H', 1)"
   ]
  },
  {
   "cell_type": "markdown",
   "id": "87b7bb60",
   "metadata": {},
   "source": [
    "**5. Make a dictionary with these keys and values: 'name': 'Hydrogen', 'symbol': 'H', 'number': 1. Then,\n",
    "create an object called hydrogen from class Element using this dictionary.**"
   ]
  },
  {
   "cell_type": "code",
   "execution_count": 59,
   "id": "2a72b355",
   "metadata": {},
   "outputs": [],
   "source": [
    "d = {'name': 'Hydrogen', 'symbol': 'H', 'number': 1}\n",
    "e1 = Element(**d)"
   ]
  },
  {
   "cell_type": "markdown",
   "id": "3c096838",
   "metadata": {},
   "source": [
    "**6. For the Element class, define a method called dump() that prints the values of the object’s\n",
    "attributes (name, symbol, and number). Create the hydrogen object from this new definition and\n",
    "use dump() to print its attributes.**"
   ]
  },
  {
   "cell_type": "code",
   "execution_count": 42,
   "id": "496cb89c",
   "metadata": {},
   "outputs": [],
   "source": [
    "class Element:\n",
    "    def __init__(self, name, symbol, number):\n",
    "        self.name = name\n",
    "        self.symbol = symbol\n",
    "        self.number = number\n",
    "    def dump(self):\n",
    "        print('Name: ',self.name , '; Symbol: ',self.symbol ,'; Number: ',self.number )"
   ]
  },
  {
   "cell_type": "code",
   "execution_count": 43,
   "id": "14fbd7bc",
   "metadata": {},
   "outputs": [
    {
     "name": "stdout",
     "output_type": "stream",
     "text": [
      "Name:  Hydrogen ; Symbol:  H ; Number:  1\n"
     ]
    }
   ],
   "source": [
    "hydrogen = Element('Hydrogen', 'H', 1)\n",
    "hydrogen.dump()"
   ]
  },
  {
   "cell_type": "markdown",
   "id": "0e59798e",
   "metadata": {},
   "source": [
    "**7. Call print(hydrogen). In the definition of Element, change the name of method dump to __str__,\n",
    "create a new hydrogen object, and call print(hydrogen) again.**"
   ]
  },
  {
   "cell_type": "code",
   "execution_count": 44,
   "id": "1c5a5fb3",
   "metadata": {},
   "outputs": [
    {
     "name": "stdout",
     "output_type": "stream",
     "text": [
      "<__main__.Element1 object at 0x000002352360D280>\n"
     ]
    }
   ],
   "source": [
    "print(hydrogen)"
   ]
  },
  {
   "cell_type": "code",
   "execution_count": 56,
   "id": "5948ca5e",
   "metadata": {},
   "outputs": [],
   "source": [
    "class Element:\n",
    "    def __init__(self, name, symbol, number):\n",
    "        self.name = name\n",
    "        self.symbol = symbol\n",
    "        self.number = number\n",
    "    def __str__(self):\n",
    "        return 'Name: '+ self.name +'; Symbol: '+self.symbol +'; Number: '+ str(self.number)"
   ]
  },
  {
   "cell_type": "code",
   "execution_count": 57,
   "id": "24aa1311",
   "metadata": {},
   "outputs": [
    {
     "name": "stdout",
     "output_type": "stream",
     "text": [
      "Name: Hydrogen; Symbol: H; Number: 1\n"
     ]
    }
   ],
   "source": [
    "hydrogen = Element('Hydrogen', 'H', 1)\n",
    "print(hydrogen)"
   ]
  },
  {
   "cell_type": "markdown",
   "id": "68dad19f",
   "metadata": {},
   "source": [
    "**8. Modify Element to make the attributes name, symbol, and number private. Define a getter\n",
    "property for each to return its value.**"
   ]
  },
  {
   "cell_type": "code",
   "execution_count": 71,
   "id": "644951d9",
   "metadata": {},
   "outputs": [],
   "source": [
    "class Element:\n",
    "    def __init__(self, name, symbol, number):\n",
    "        self.__name = name\n",
    "        self.__symbol = symbol\n",
    "        self.__number = number\n",
    "    def __str__(self):\n",
    "        return 'Name: '+ self.name +'; Symbol: '+self.symbol +'; Number: '+ str(self.number)\n",
    "    def get_name(self):\n",
    "        return self.__name\n",
    "    def get_symbol(self):\n",
    "        return self.__symbol\n",
    "    def get_number(self):\n",
    "        return self.__number"
   ]
  },
  {
   "cell_type": "code",
   "execution_count": 72,
   "id": "6237cf57",
   "metadata": {},
   "outputs": [],
   "source": [
    "hydrogen = Element('Hydrogen', 'H', 1)"
   ]
  },
  {
   "cell_type": "code",
   "execution_count": 73,
   "id": "dd2c9938",
   "metadata": {},
   "outputs": [
    {
     "data": {
      "text/plain": [
       "'Hydrogen'"
      ]
     },
     "execution_count": 73,
     "metadata": {},
     "output_type": "execute_result"
    }
   ],
   "source": [
    "hydrogen.get_name()"
   ]
  },
  {
   "cell_type": "markdown",
   "id": "930fca95",
   "metadata": {},
   "source": [
    "**9. Define three classes: Bear, Rabbit, and Octothorpe. For each, define only one method: eats(). This\n",
    "should return 'berries' (Bear), 'clover' (Rabbit), or 'campers' (Octothorpe). Create one object from\n",
    "each and print what it eats.**"
   ]
  },
  {
   "cell_type": "code",
   "execution_count": 76,
   "id": "a75d3919",
   "metadata": {},
   "outputs": [
    {
     "name": "stdout",
     "output_type": "stream",
     "text": [
      "berries\n",
      "clover\n",
      "clover\n"
     ]
    }
   ],
   "source": [
    "class Bear:\n",
    "    def eats(self):\n",
    "        return 'berries'\n",
    "class Rabit:\n",
    "    def eats(self):\n",
    "        return 'clover'\n",
    "\n",
    "class Octothorpe:\n",
    "    def eats(self):\n",
    "        return 'campers'\n",
    "\n",
    "bear = Bear()\n",
    "rabit = Rabit()\n",
    "octothorpe = Octothorpe()\n",
    "print(bear.eats())\n",
    "print(rabit.eats())\n",
    "print(rabit.eats())"
   ]
  },
  {
   "cell_type": "markdown",
   "id": "05da5998",
   "metadata": {},
   "source": [
    "**10. Define these classes: Laser, Claw, and SmartPhone. Each has only one method: does(). This\n",
    "returns 'disintegrate' (Laser), 'crush' (Claw), or 'ring' (SmartPhone). Then, define the class Robot that\n",
    "has one instance (object) of each of these. Define a does() method for the Robot that prints what its\n",
    "component objects do.**"
   ]
  },
  {
   "cell_type": "code",
   "execution_count": 81,
   "id": "63351a1a",
   "metadata": {},
   "outputs": [
    {
     "name": "stdout",
     "output_type": "stream",
     "text": [
      "disintegrate crush ring\n"
     ]
    }
   ],
   "source": [
    "class Laser:\n",
    "    def does(self):\n",
    "        return 'disintegrate'\n",
    "    \n",
    "class Claw:\n",
    "    def does(self):\n",
    "        return 'crush'\n",
    "    \n",
    "class SmartPhone:\n",
    "    def does(self):\n",
    "        return 'ring'\n",
    "\n",
    "class Robot:\n",
    "    def __init__(self):\n",
    "        self.laser = Laser()\n",
    "        self.claw = Claw()\n",
    "        self.smartphone = SmartPhone()\n",
    "    def does(self):\n",
    "        print(self.laser.does(), self.claw.does(), self.smartphone.does())\n",
    "\n",
    "robot = Robot()\n",
    "robot.does()"
   ]
  },
  {
   "cell_type": "code",
   "execution_count": null,
   "id": "85433722",
   "metadata": {},
   "outputs": [],
   "source": []
  }
 ],
 "metadata": {
  "kernelspec": {
   "display_name": "Python 3 (ipykernel)",
   "language": "python",
   "name": "python3"
  },
  "language_info": {
   "codemirror_mode": {
    "name": "ipython",
    "version": 3
   },
   "file_extension": ".py",
   "mimetype": "text/x-python",
   "name": "python",
   "nbconvert_exporter": "python",
   "pygments_lexer": "ipython3",
   "version": "3.9.12"
  }
 },
 "nbformat": 4,
 "nbformat_minor": 5
}
