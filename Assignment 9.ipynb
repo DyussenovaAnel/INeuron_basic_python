{
 "cells": [
  {
   "cell_type": "raw",
   "id": "a24886c4",
   "metadata": {},
   "source": [
    "1. To what does a relative path refer?\n",
    "A relative file path points to a file relative to the current file.\n",
    "\n",
    "2. What does an absolute path start with your operating system?\n",
    "\"C:\\Users\\Name\\\"\n",
    "\n",
    "3. What do the functions os.getcwd() and os.chdir() do?\n",
    "os.getcwd() - to get the current working directory\n",
    "os.chdir(path) - to change the current working directory to specified path\n",
    "\n",
    "4. What are the . and .. folders?\n",
    ". represents the directory you are in and .. represents the parent directory\n",
    "\n",
    "5. In C:\\bacon\\eggs\\spam.txt, which part is the dir name, and which part is the base name?\n",
    "base name - spam.txt\n",
    "dir name - C:\\bacon\\eggs\n",
    "\n",
    "6. What are the three “mode” arguments that can be passed to the open() function?\n",
    "\"r\" - Read - Default value. Opens a file for reading, error if the file does not exist\n",
    "\"a\" - Append - Opens a file for appending, creates the file if it does not exist\n",
    "\"w\" - Write - Opens a file for writing, creates the file if it does not exist\n",
    "\"x\" - Create - Creates the specified file, returns an error if the file exist\n",
    "\n",
    "7. What happens if an existing file is opened in write mode?\n",
    "Truncate file to zero length or create text file for writing. The stream is positioned at the beginning of the file.\n",
    "\n",
    "8. How do you tell the difference between read() and readlines()?\n",
    "read() - returns the entire file as a single string\n",
    "readline() - returns next line\n",
    "\n",
    "9. What data structure does a shelf value resemble?\n",
    "A shelf value resembles a dictionary value;\n"
   ]
  }
 ],
 "metadata": {
  "kernelspec": {
   "display_name": "Python 3 (ipykernel)",
   "language": "python",
   "name": "python3"
  },
  "language_info": {
   "codemirror_mode": {
    "name": "ipython",
    "version": 3
   },
   "file_extension": ".py",
   "mimetype": "text/x-python",
   "name": "python",
   "nbconvert_exporter": "python",
   "pygments_lexer": "ipython3",
   "version": "3.9.12"
  }
 },
 "nbformat": 4,
 "nbformat_minor": 5
}
