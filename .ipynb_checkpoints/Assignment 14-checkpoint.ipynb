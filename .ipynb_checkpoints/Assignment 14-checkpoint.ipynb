{
 "cells": [
  {
   "cell_type": "markdown",
   "id": "0bbac576",
   "metadata": {},
   "source": [
    "**1. What does RGBA stand for?**\n",
    "\n",
    "An RGBA color value is an extension of RGB with an Alpha channel (opacity)."
   ]
  },
  {
   "cell_type": "markdown",
   "id": "6139d5d2",
   "metadata": {},
   "source": [
    "**2. From the Pillow module, how do you get the RGBA value of any images?**"
   ]
  },
  {
   "cell_type": "code",
   "execution_count": null,
   "id": "3456f510",
   "metadata": {},
   "outputs": [],
   "source": [
    "from PIL import Image\n",
    "img = Image.open(\"example.jpg\")\n",
    "img = img.convert(\"RGBA\")\n",
    "d = img.getdata()"
   ]
  },
  {
   "cell_type": "markdown",
   "id": "46bb62cf",
   "metadata": {},
   "source": [
    "**3. What is a box tuple, and how does it work?**\n",
    "\n",
    "A box tuple is a tuple value of four integers: the left edge x-coordinate, the top edge y-coordinate, the width, and the height, respectively"
   ]
  },
  {
   "cell_type": "markdown",
   "id": "58fe61a2",
   "metadata": {},
   "source": [
    "**4. Use your image and load in notebook then, How can you find out the width and height of an Image object?**"
   ]
  },
  {
   "cell_type": "code",
   "execution_count": null,
   "id": "38e2db2c",
   "metadata": {},
   "outputs": [],
   "source": [
    "from PIL import Image\n",
    "im = Image.open('example.jpg')\n",
    "width, height = im.size"
   ]
  },
  {
   "cell_type": "markdown",
   "id": "dd45555a",
   "metadata": {},
   "source": [
    "**5. What method would you call to get Image object for a 100×100 image, excluding the lower-left quarter of it?**"
   ]
  },
  {
   "cell_type": "code",
   "execution_count": null,
   "id": "fbb189d7",
   "metadata": {},
   "outputs": [],
   "source": [
    "from PIL import Image\n",
    "\n",
    "im = Image.open('example.jpg')\n",
    "width, height = im.size\n",
    "border = (width - 100, 0, 0, height - 100)\n",
    "ImageOps.crop(img, border)"
   ]
  },
  {
   "cell_type": "markdown",
   "id": "6cb75f0b",
   "metadata": {},
   "source": [
    "**6. After making changes to an Image object, how could you save it as an image file?**"
   ]
  },
  {
   "cell_type": "code",
   "execution_count": null,
   "id": "e5049f1b",
   "metadata": {},
   "outputs": [],
   "source": [
    "image.save('out.img')"
   ]
  },
  {
   "cell_type": "markdown",
   "id": "6f41d7e0",
   "metadata": {},
   "source": [
    "**7. What module contains Pillow’s shape-drawing code?**\n",
    "\n",
    "The ImageDraw module contains code to draw on images"
   ]
  },
  {
   "cell_type": "markdown",
   "id": "9d19aa9e",
   "metadata": {},
   "source": [
    "**8. Image objects do not have drawing methods. What kind of object does? How do you get this kind of object?**\n",
    "\n",
    "ImageDraw objects have shape-drawing methods such as point(), line(), or rectangle(). They are returned by passing the Image object to the ImageDraw.Draw() function"
   ]
  },
  {
   "cell_type": "code",
   "execution_count": null,
   "id": "c1d26055",
   "metadata": {},
   "outputs": [],
   "source": []
  }
 ],
 "metadata": {
  "kernelspec": {
   "display_name": "Python 3 (ipykernel)",
   "language": "python",
   "name": "python3"
  },
  "language_info": {
   "codemirror_mode": {
    "name": "ipython",
    "version": 3
   },
   "file_extension": ".py",
   "mimetype": "text/x-python",
   "name": "python",
   "nbconvert_exporter": "python",
   "pygments_lexer": "ipython3",
   "version": "3.9.12"
  }
 },
 "nbformat": 4,
 "nbformat_minor": 5
}
