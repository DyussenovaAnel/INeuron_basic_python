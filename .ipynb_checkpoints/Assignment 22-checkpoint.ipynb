{
 "cells": [
  {
   "cell_type": "markdown",
   "id": "b1b7da8b",
   "metadata": {},
   "source": [
    "**1. What is the result of the code, and explain?**\n",
    "\n",
    "Method, which prints X variable. "
   ]
  },
  {
   "cell_type": "code",
   "execution_count": 6,
   "id": "cd32ea7b",
   "metadata": {},
   "outputs": [
    {
     "name": "stdout",
     "output_type": "stream",
     "text": [
      "iNeuron\n"
     ]
    }
   ],
   "source": [
    "X = 'iNeuron'\n",
    "def func():\n",
    "    print(X)\n",
    "func()"
   ]
  },
  {
   "cell_type": "markdown",
   "id": "46090071",
   "metadata": {},
   "source": [
    "**2. What is the result of the code, and explain?**\n",
    "\n",
    "Function assign 'NI!' to X variable. And prints X outside the function, result is 'iNeuron' and not 'NI!'. Because X was changed in functon locally just inside the function"
   ]
  },
  {
   "cell_type": "code",
   "execution_count": 8,
   "id": "c81d48ca",
   "metadata": {},
   "outputs": [
    {
     "name": "stdout",
     "output_type": "stream",
     "text": [
      "iNeuron\n"
     ]
    }
   ],
   "source": [
    "X = 'iNeuron'\n",
    "def func():\n",
    "    X = 'NI!'\n",
    "func()\n",
    "print(X)"
   ]
  },
  {
   "cell_type": "markdown",
   "id": "06c386b3",
   "metadata": {},
   "source": [
    "**3. What does this code print, and why?**\n",
    "\n",
    "Function assign 'NI!' to X variable and prints it, because it was assigned 'NI!', inside the function.\n",
    "And when we print X again but outside, result is 'iNeuron' and not 'NI!'. Because X was changed locally just inside the function, but globally it is still 'iNeuron'"
   ]
  },
  {
   "cell_type": "code",
   "execution_count": 11,
   "id": "e0a71013",
   "metadata": {},
   "outputs": [
    {
     "name": "stdout",
     "output_type": "stream",
     "text": [
      "NI!\n",
      "iNeuron\n"
     ]
    }
   ],
   "source": [
    "X = 'iNeuron'\n",
    "def func():\n",
    "    X = 'NI!'\n",
    "    print(X)\n",
    "func()\n",
    "print(X)"
   ]
  },
  {
   "cell_type": "markdown",
   "id": "2d39e62c",
   "metadata": {},
   "source": [
    "**4. What output does this code produce? Why?**\n",
    "\n",
    "In the function X was assigned globally so, when we print it outside the function result is 'NI!'"
   ]
  },
  {
   "cell_type": "code",
   "execution_count": 13,
   "id": "f46db49d",
   "metadata": {},
   "outputs": [
    {
     "name": "stdout",
     "output_type": "stream",
     "text": [
      "NI!\n"
     ]
    }
   ],
   "source": [
    "X = 'iNeuron'\n",
    "def func():\n",
    "    global X\n",
    "    X = 'NI!'\n",
    "func()\n",
    "print(X)"
   ]
  },
  {
   "cell_type": "markdown",
   "id": "088f2f6e",
   "metadata": {},
   "source": [
    "**5. What about this code—what’s the output, and why?**\n",
    "\n",
    "function nested prints global X, not 'NI!'. Because local changes in function doesnt affect inner functoins"
   ]
  },
  {
   "cell_type": "code",
   "execution_count": 18,
   "id": "1b44b9e4",
   "metadata": {},
   "outputs": [
    {
     "name": "stdout",
     "output_type": "stream",
     "text": [
      "iNeuron\n"
     ]
    },
    {
     "data": {
      "text/plain": [
       "'iNeuron'"
      ]
     },
     "execution_count": 18,
     "metadata": {},
     "output_type": "execute_result"
    }
   ],
   "source": [
    "X = 'iNeuron'\n",
    "def func():\n",
    "    X = 'NI!'\n",
    "    def nested():\n",
    "        print(X)\n",
    "nested()\n",
    "func()\n",
    "X"
   ]
  },
  {
   "cell_type": "markdown",
   "id": "9f50f960",
   "metadata": {},
   "source": [
    "**6. How about this code: what is its output in Python 3, and explain?**\n",
    "\n",
    "Nonlocal works inside the function and in closest functions, but no globally"
   ]
  },
  {
   "cell_type": "code",
   "execution_count": 31,
   "id": "72ffdf6f",
   "metadata": {},
   "outputs": [
    {
     "name": "stdout",
     "output_type": "stream",
     "text": [
      "spam\n",
      "iNeuron\n"
     ]
    }
   ],
   "source": [
    "def func():\n",
    "    X = 'NI'\n",
    "    def nested():\n",
    "        nonlocal X\n",
    "        X = 'spam'\n",
    "    nested()\n",
    "    print(X)\n",
    "\n",
    "\n",
    "func()\n",
    "nested()"
   ]
  }
 ],
 "metadata": {
  "kernelspec": {
   "display_name": "Python 3 (ipykernel)",
   "language": "python",
   "name": "python3"
  },
  "language_info": {
   "codemirror_mode": {
    "name": "ipython",
    "version": 3
   },
   "file_extension": ".py",
   "mimetype": "text/x-python",
   "name": "python",
   "nbconvert_exporter": "python",
   "pygments_lexer": "ipython3",
   "version": "3.9.12"
  }
 },
 "nbformat": 4,
 "nbformat_minor": 5
}
