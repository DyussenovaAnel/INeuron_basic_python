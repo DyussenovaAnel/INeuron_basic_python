{
 "cells": [
  {
   "cell_type": "code",
   "execution_count": null,
   "id": "ec282d7a",
   "metadata": {},
   "outputs": [],
   "source": [
    "1. Set the variable test1 to the string &#39;This is a test of the emergency text system,&#39; and save test1 to a\n",
    "file named test.txt.\n",
    "2. Read the contents of the file test.txt into the variable test2. Is there a difference between test 1\n",
    "and test 2?\n",
    "3. Create a CSV file called books.csv by using these lines:\n",
    "title,author,year\n",
    "The Weirdstone of Brisingamen,Alan Garner,1960\n",
    "Perdido Street Station,China Miéville,2000\n",
    "Thud!,Terry Pratchett,2005\n",
    "The Spellman Files,Lisa Lutz,2007\n",
    "Small Gods,Terry Pratchett,1992\n",
    "4. Use the sqlite3 module to create a SQLite database called books.db, and a table called books with\n",
    "these fields: title (text), author (text), and year (integer).\n",
    "5. Read books.csv and insert its data into the book table.\n",
    "6. Select and print the title column from the book table in alphabetical order.\n",
    "7. From the book table, select and print all columns in the order of publication.\n",
    "8. Use the sqlalchemy module to connect to the sqlite3 database books.db that you just made in\n",
    "exercise 6.\n",
    "9. Install the Redis server and the Python redis library (pip install redis) on your computer. Create a\n",
    "Redis hash called test with the fields count (1) and name (&#39;Fester Bestertester&#39;). Print all the fields for\n",
    "test.\n",
    "10. Increment the count field of test and print it."
   ]
  },
  {
   "cell_type": "markdown",
   "id": "74940988",
   "metadata": {},
   "source": [
    "**1. Set the variable test1 to the string 'This is a test of the emergency text system', and save test1 to a\n",
    "file named test.txt.**"
   ]
  },
  {
   "cell_type": "code",
   "execution_count": 2,
   "id": "a2735122",
   "metadata": {},
   "outputs": [
    {
     "data": {
      "text/plain": [
       "43"
      ]
     },
     "execution_count": 2,
     "metadata": {},
     "output_type": "execute_result"
    }
   ],
   "source": [
    "test1 = 'This is a test of the emergency text system'\n",
    "fileObj = open('test.txt','w')\n",
    "fileObj.write(test1)"
   ]
  },
  {
   "cell_type": "markdown",
   "id": "bfeb2658",
   "metadata": {},
   "source": [
    "**2. Read the contents of the file test.txt into the variable test2. Is there a difference between test 1\n",
    "and test 2?**"
   ]
  },
  {
   "cell_type": "code",
   "execution_count": 7,
   "id": "0871c1c3",
   "metadata": {},
   "outputs": [
    {
     "data": {
      "text/plain": [
       "'This is a test of the emergency text system'"
      ]
     },
     "execution_count": 7,
     "metadata": {},
     "output_type": "execute_result"
    }
   ],
   "source": [
    "fileObj = open('test.txt','r')\n",
    "test2 = fileObj.read()\n",
    "test2"
   ]
  },
  {
   "cell_type": "markdown",
   "id": "bb398f22",
   "metadata": {},
   "source": [
    "**3. Create a CSV file called books.csv by using these lines:**\n",
    "\n",
    "    title,author,year\n",
    "\n",
    "    The Weirdstone of Brisingamen,Alan Garner,1960\n",
    "\n",
    "    Perdido Street Station,China Miéville,2000\n",
    "\n",
    "    Thud!,Terry Pratchett,2005\n",
    "\n",
    "    The Spellman Files,Lisa Lutz,2007\n",
    "\n",
    "    Small Gods,Terry Pratchett,1992"
   ]
  },
  {
   "cell_type": "code",
   "execution_count": 10,
   "id": "0e767724",
   "metadata": {},
   "outputs": [],
   "source": [
    "import csv\n",
    "arr = [[\"title\",\"author\",\"year\"],\n",
    "[\"The Weirdstone of Brisingamen\",\"Alan Garner\",1960],\n",
    "[\"Perdido Street Station\",\"China Miéville\",2000],\n",
    "[\"Thud!\",\"Terry Pratchett\",2005],\n",
    "[\"The Spellman Files\",\"Lisa Lutz\",2007],\n",
    "[\"Small Gods\",\"Terry Pratchett\",1992]]\n",
    "\n",
    "    \n",
    "with open('books.csv', 'w',newline='') as myfile:\n",
    "    wr = csv.writer(myfile, quoting=csv.QUOTE_ALL)\n",
    "    wr.writerow(arr)"
   ]
  },
  {
   "cell_type": "markdown",
   "id": "8694b944",
   "metadata": {},
   "source": [
    "**4. Use the sqlite3 module to create a SQLite database called books.db, and a table called books with\n",
    "these fields: title (text), author (text), and year (integer).**"
   ]
  },
  {
   "cell_type": "code",
   "execution_count": null,
   "id": "40f96a1c",
   "metadata": {},
   "outputs": [],
   "source": []
  }
 ],
 "metadata": {
  "kernelspec": {
   "display_name": "Python 3 (ipykernel)",
   "language": "python",
   "name": "python3"
  },
  "language_info": {
   "codemirror_mode": {
    "name": "ipython",
    "version": 3
   },
   "file_extension": ".py",
   "mimetype": "text/x-python",
   "name": "python",
   "nbconvert_exporter": "python",
   "pygments_lexer": "ipython3",
   "version": "3.9.12"
  }
 },
 "nbformat": 4,
 "nbformat_minor": 5
}
