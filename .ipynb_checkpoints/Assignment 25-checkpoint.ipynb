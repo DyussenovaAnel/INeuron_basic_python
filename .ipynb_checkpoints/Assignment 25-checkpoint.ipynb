{
 "cells": [
  {
   "cell_type": "markdown",
   "id": "959a62ae",
   "metadata": {},
   "source": [
    "**1 What is the difference between enclosing a list comprehension in square brackets and\n",
    "parentheses?**\n",
    "\n",
    "in brackets produces list\n",
    "in parentheses creates generator\n",
    "\n",
    "**2 What is the relationship between generators and iterators?**\n",
    "\n",
    "Iterator\n",
    "An iterator used to iterate over iterable objects like list, tuples etc\n",
    "Using functions next() keyword is used to call the next element in the iterable object.\n",
    "\n",
    "Generator\n",
    "Generators are implemented using a function. \n",
    "It will return a sequence of data in an iterable format where we need to iterate over the sequence to use the data as they won’t store the entire sequence in the memory. Like iterater using next() we can iterate generator \n",
    "\n",
    "**3 What are the signs that a function is a generator function?**\n",
    "\n",
    "If a function contains at least one yield statement\n",
    "\n",
    "**4 What is the purpose of a yield statement?**\n",
    "\n",
    "Generator uses the keyword “yield” instead of \"return\". \n",
    "\n",
    "**5 What is the relationship between map calls and list comprehensions? Make a comparison and\n",
    "contrast between the two.**\n",
    "\n",
    "Map function:\n",
    "map() function returns a map object(which is an iterator) of the results after applying the given function to each item of a given iterable (list, tuple etc.)\n",
    "\n",
    "List Comprehension:\n",
    "List comprehension offers a shorter syntax when you want to create a new list based on the values of an existing list.\n",
    "\n",
    "List Comprehension may be easier to read especially to new programmers "
   ]
  },
  {
   "cell_type": "code",
   "execution_count": null,
   "id": "3616cbdd",
   "metadata": {},
   "outputs": [],
   "source": []
  }
 ],
 "metadata": {
  "kernelspec": {
   "display_name": "Python 3 (ipykernel)",
   "language": "python",
   "name": "python3"
  },
  "language_info": {
   "codemirror_mode": {
    "name": "ipython",
    "version": 3
   },
   "file_extension": ".py",
   "mimetype": "text/x-python",
   "name": "python",
   "nbconvert_exporter": "python",
   "pygments_lexer": "ipython3",
   "version": "3.9.12"
  }
 },
 "nbformat": 4,
 "nbformat_minor": 5
}
