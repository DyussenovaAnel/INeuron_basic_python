{
 "cells": [
  {
   "cell_type": "markdown",
   "id": "85736fe0",
   "metadata": {},
   "source": [
    "**1.What are the two values of the Boolean data type? How do you write them?**\n",
    "False True\n",
    "\n",
    "**2. What are the three different types of Boolean operators?**\n",
    "and or not\n",
    "\n",
    "\n",
    "**3. Make a list of each Boolean operator’s truth tables (i.e. every possible combination of Boolean values for the operator and what it evaluate ).**\n",
    "AND:\n",
    "false false -> false\n",
    "false true-> false\n",
    "true true-> true\n",
    "\n",
    "OR:\n",
    "false false -> false\n",
    "false true-> true\n",
    "true true-> true\n",
    "\n",
    "NOT:\n",
    "true ->false\n",
    "false -> true\n",
    "\n",
    "\n",
    "**4. What are the values of the following expressions?**\n",
    "(5 > 4) and (3 == 5)   False\n",
    "not (5 > 4) False\n",
    "(5 > 4) or (3 == 5) True\n",
    "not ((5 > 4) or (3 == 5)) False\n",
    "(True and True) and (True == False) False\n",
    "(not False) or (not True) True\n",
    "\n",
    "\n",
    "**5. What are the six comparison operators? **\n",
    "\n",
    "==, <=, >=, <, >, !=\n",
    "\n",
    "\n",
    "**6. How do you tell the difference between the equal to and assignment operators?Describe a\n",
    "condition and when you would use one.****\n",
    "assignment operator consists from one equal sign,  the equal to operator consists from two equal signs. The equal to operator I will use in a condition, in if statement. Assignment operator I will use to assign parameter\n",
    "\n",
    "\n",
    "**7. Identify the three blocks in this code:**\n",
    "spam = 0 \n",
    "if spam == 10: first block\n",
    "print(‘eggs’)\n",
    "if spam > 5: second block\n",
    "print(‘bacon’)\n",
    "else: third block\n",
    "print(‘ham’)\n",
    "print(‘spam’)\n",
    "print(‘spam’)"
   ]
  },
  {
   "cell_type": "code",
   "execution_count": 1,
   "id": "9fd2beac",
   "metadata": {},
   "outputs": [
    {
     "name": "stdout",
     "output_type": "stream",
     "text": [
      "Hello\n",
      "Howdy\n",
      "Greetings!\n"
     ]
    }
   ],
   "source": [
    "# 8. Write code that prints Hello if 1 is stored in spam, prints Howdy if 2 is stored in spam, and prints\n",
    "# Greetings! if anything else is stored in spam.\n",
    "\n",
    "spam = [1, 2, 3]\n",
    "if 1 in spam:\n",
    "    print(\"Hello\")\n",
    "if 2 in spam:\n",
    "    print(\"Howdy\")\n",
    "if spam:\n",
    "    print(\"Greetings!\")"
   ]
  },
  {
   "cell_type": "markdown",
   "id": "c047e435",
   "metadata": {},
   "source": [
    "**9.If your program is stuck in an endless loop, what keys will you press?**\n",
    "CTRL+C\n",
    "\n",
    "**10. How can you tell the difference between break and continue?**\n",
    "break - stops loop, breaks iteration\n",
    "continue - loop continues to work\n",
    "\n",
    "**11. In a for loop, what is the difference between range(10), range(0, 10), and range(0, 10, 1)?**\n",
    "no difference - they are all iterates from 0 to 10 with step 1 "
   ]
  },
  {
   "cell_type": "code",
   "execution_count": 3,
   "id": "172bb59f",
   "metadata": {},
   "outputs": [
    {
     "name": "stdout",
     "output_type": "stream",
     "text": [
      "1\n",
      "2\n",
      "3\n",
      "4\n",
      "5\n",
      "6\n",
      "7\n",
      "8\n",
      "9\n",
      "10\n",
      "1\n",
      "2\n",
      "3\n",
      "4\n",
      "5\n",
      "6\n",
      "7\n",
      "8\n",
      "9\n",
      "10\n"
     ]
    }
   ],
   "source": [
    "# 12. Write a short program that prints the numbers 1 to 10 using a for loop. Then write an equivalent \n",
    "# program that prints the numbers 1 to 10 using a while loop.\n",
    "for i in range(1, 11):\n",
    "    print(i)\n",
    "\n",
    "i=1\n",
    "while i<11:\n",
    "    print(i)\n",
    "    i+=1"
   ]
  },
  {
   "cell_type": "markdown",
   "id": "330a3e55",
   "metadata": {},
   "source": [
    "**13. If you had a function named bacon() inside a module named spam, how would you call it after importing spam?**\n",
    "\n",
    "import spam\n",
    "\n",
    "spam.bacon()"
   ]
  },
  {
   "cell_type": "code",
   "execution_count": null,
   "id": "4f7667b8",
   "metadata": {},
   "outputs": [],
   "source": []
  }
 ],
 "metadata": {
  "kernelspec": {
   "display_name": "Python 3 (ipykernel)",
   "language": "python",
   "name": "python3"
  },
  "language_info": {
   "codemirror_mode": {
    "name": "ipython",
    "version": 3
   },
   "file_extension": ".py",
   "mimetype": "text/x-python",
   "name": "python",
   "nbconvert_exporter": "python",
   "pygments_lexer": "ipython3",
   "version": "3.9.12"
  }
 },
 "nbformat": 4,
 "nbformat_minor": 5
}
