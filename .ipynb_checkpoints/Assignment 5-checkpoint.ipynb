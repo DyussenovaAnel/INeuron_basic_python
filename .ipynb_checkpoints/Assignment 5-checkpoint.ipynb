{
 "cells": [
  {
   "cell_type": "markdown",
   "id": "4035b2ec",
   "metadata": {},
   "source": [
    "**1. What does an empty dictionary's code look like?**\n",
    "\n",
    "{} or dict()\n",
    "\n",
    "**2. What is the value of a dictionary value with the key 'foo' and the value 42?**\n",
    "\n",
    "42\n",
    "\n",
    "**3. What is the most significant distinction between a dictionary and a list?**\n",
    "\n",
    "in the dictionary you can assign the keys. In the list instead of keys indexes\n",
    "\n",
    "**4. What happens if you try to access spam['foo'] if spam is {'bar': 100}?**\n",
    "\n",
    "i will get an error -> KeyError: 'foo'\n",
    "\n",
    "**5. If a dictionary is stored in spam, what is the difference between the expressions 'cat' in spam and 'cat' in spam.keys()?**\n",
    "\n",
    "it will retrun the same result\n",
    "\n",
    "**6. If a dictionary is stored in spam, what is the difference between the expressions 'cat' in spam and 'cat' in spam.values()?**\n",
    "\n",
    "'cat' in spam  -  wiil check if 'cat' in keys\n",
    "'cat' in spam.values() - will check if 'cat in values\n",
    "\n",
    "**7. What is a shortcut for the following code?**\n",
    "\n",
    "if 'color' not in spam:\n",
    "    spam['color'] = 'black'\n",
    "\n",
    "if 'color' not in spam: spam['color'] = 'black'"
   ]
  },
  {
   "cell_type": "code",
   "execution_count": 18,
   "id": "e4667c4c",
   "metadata": {},
   "outputs": [
    {
     "name": "stdout",
     "output_type": "stream",
     "text": [
      "For key bar there is 100 value\n",
      "For key bar1 there is 101 value\n",
      "For key bar2 there is 102 value\n"
     ]
    }
   ],
   "source": [
    "# 8. How do you \"pretty print\" dictionary values using which module and function?\n",
    "\n",
    "dictionary = {'bar': 100, 'bar1': 101, 'bar2': 102}\n",
    "for k, v in dictionary.items():\n",
    "    print('For key {} there is {} value'.format(k,v))"
   ]
  }
 ],
 "metadata": {
  "kernelspec": {
   "display_name": "Python 3 (ipykernel)",
   "language": "python",
   "name": "python3"
  },
  "language_info": {
   "codemirror_mode": {
    "name": "ipython",
    "version": 3
   },
   "file_extension": ".py",
   "mimetype": "text/x-python",
   "name": "python",
   "nbconvert_exporter": "python",
   "pygments_lexer": "ipython3",
   "version": "3.9.12"
  }
 },
 "nbformat": 4,
 "nbformat_minor": 5
}
