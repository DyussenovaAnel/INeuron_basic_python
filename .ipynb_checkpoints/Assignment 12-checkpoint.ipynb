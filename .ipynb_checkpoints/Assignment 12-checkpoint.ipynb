{
 "cells": [
  {
   "cell_type": "markdown",
   "id": "671ac4b5",
   "metadata": {},
   "source": [
    "**1. In what modes should the PdfFileReader() and PdfFileWriter() File objects will be opened?**"
   ]
  },
  {
   "cell_type": "code",
   "execution_count": 2,
   "id": "5c4c5595",
   "metadata": {},
   "outputs": [],
   "source": [
    "import PyPDF2 as pdf"
   ]
  },
  {
   "cell_type": "markdown",
   "id": "7e16b13a",
   "metadata": {},
   "source": [
    "**2. From a PdfFileReader object, how do you get a Page object for page 5?**"
   ]
  },
  {
   "cell_type": "code",
   "execution_count": null,
   "id": "bc32e6cd",
   "metadata": {},
   "outputs": [],
   "source": [
    "pdfFileObj = open(\"example.pdf\",'rb')\n",
    "pdf = pdf.PdfFileReader(pdfFileObj)\n",
    "page5 = pdf.getPage(5)"
   ]
  },
  {
   "cell_type": "markdown",
   "id": "9590c1f8",
   "metadata": {},
   "source": [
    "**3. What PdfFileReader variable stores the number of pages in the PDF document?**"
   ]
  },
  {
   "cell_type": "code",
   "execution_count": null,
   "id": "fed8cf3f",
   "metadata": {},
   "outputs": [],
   "source": [
    "pdfFileObj = open(\"example.pdf\",'rb')\n",
    "pdfReader = pdf.PdfFileReader(pdfFileObj)\n",
    "pdfReader.numPages"
   ]
  },
  {
   "cell_type": "markdown",
   "id": "b146b5cb",
   "metadata": {},
   "source": [
    "**4. If a PdfFileReader object’s PDF is encrypted with the password swordfish, what must you do**"
   ]
  },
  {
   "cell_type": "code",
   "execution_count": null,
   "id": "f60f7395",
   "metadata": {},
   "outputs": [],
   "source": [
    "pdfReader.decrypt('swordfish')"
   ]
  },
  {
   "cell_type": "markdown",
   "id": "476cece7",
   "metadata": {},
   "source": [
    "**5. What methods do you use to rotate a page?**"
   ]
  },
  {
   "cell_type": "code",
   "execution_count": null,
   "id": "b90ee440",
   "metadata": {},
   "outputs": [],
   "source": [
    "page5.rotateClockwise(90)"
   ]
  },
  {
   "cell_type": "markdown",
   "id": "6744b610",
   "metadata": {},
   "source": [
    "**6. What is the difference between a Run object and a Paragraph object?**\n",
    "\n",
    "Paragraph Object :  A document contains multiple paragraphs. A paragraph begins on a new line and contains multiple \n",
    "runs. \n",
    "\n",
    "\n",
    "\n",
    "Run Objects :\n",
    "Runs are contiguous groups of characters within a paragraph with the same style"
   ]
  },
  {
   "cell_type": "markdown",
   "id": "0a40fe68",
   "metadata": {},
   "source": [
    "**7. How do you obtain a list of Paragraph objects for a Document object that’s stored in a variable named doc?**"
   ]
  },
  {
   "cell_type": "code",
   "execution_count": null,
   "id": "7e7a85f5",
   "metadata": {},
   "outputs": [],
   "source": [
    "import docx\n",
    "doc = docx.Document('demo.docx')\n",
    "doc.paragraphs"
   ]
  },
  {
   "cell_type": "markdown",
   "id": "bcb52ee9",
   "metadata": {},
   "source": [
    "**8. What type of object has bold, underline, italic, strike, and outline variables?**\n",
    "\n",
    "A Run object has bold, underline,italic,strike and outline variables"
   ]
  },
  {
   "cell_type": "markdown",
   "id": "22bc7a01",
   "metadata": {},
   "source": [
    "**9. What is the difference between False, True, and None for the bold variable?**\n",
    "\n",
    "True - correspond to the inclusion of the property;\n",
    "False - correspond to turning off the property;\n",
    "None - means that the property's effective value is taken/inherited from the style hierarchy of the document."
   ]
  },
  {
   "cell_type": "markdown",
   "id": "fa4328d6",
   "metadata": {},
   "source": [
    "**10. How do you create a Document object for a new Word document?**"
   ]
  },
  {
   "cell_type": "code",
   "execution_count": null,
   "id": "27d2804b",
   "metadata": {},
   "outputs": [],
   "source": [
    "from docx import Document\n",
    "doc = Document()"
   ]
  },
  {
   "cell_type": "markdown",
   "id": "68200cce",
   "metadata": {},
   "source": [
    "**11. How do you add a paragraph with the text \"Hello, there!\" to a Document object stored in a variable named doc?**"
   ]
  },
  {
   "cell_type": "code",
   "execution_count": null,
   "id": "2cfd3d69",
   "metadata": {},
   "outputs": [],
   "source": [
    "import docx\n",
    "doc = docx.Document()\n",
    "\n",
    "doc.add_paragraph('Hello there!')\n",
    "doc.save('hellothere.docx')"
   ]
  },
  {
   "cell_type": "markdown",
   "id": "886da85b",
   "metadata": {},
   "source": [
    "**12. What integers represent the levels of headings available in Word documents?**\n",
    "\n",
    "integer from 0 to 4\n",
    "\n",
    "The integer 0 makes the heading the Title style\n",
    "Integers 1 to 4 are for various heading levels, with 1 being the main heading and 4 the lowest subheading\n"
   ]
  }
 ],
 "metadata": {
  "kernelspec": {
   "display_name": "Python 3 (ipykernel)",
   "language": "python",
   "name": "python3"
  },
  "language_info": {
   "codemirror_mode": {
    "name": "ipython",
    "version": 3
   },
   "file_extension": ".py",
   "mimetype": "text/x-python",
   "name": "python",
   "nbconvert_exporter": "python",
   "pygments_lexer": "ipython3",
   "version": "3.9.12"
  }
 },
 "nbformat": 4,
 "nbformat_minor": 5
}
