{
 "cells": [
  {
   "cell_type": "markdown",
   "id": "eeee130b",
   "metadata": {},
   "source": [
    "**1. What is the result of the code, and why?**\n",
    "\n",
    "prints variables a,b,c. because c is not given in the arguments function prints default value"
   ]
  },
  {
   "cell_type": "code",
   "execution_count": 29,
   "id": "5697a8d5",
   "metadata": {},
   "outputs": [
    {
     "name": "stdout",
     "output_type": "stream",
     "text": [
      "1 2 8\n"
     ]
    }
   ],
   "source": [
    "def func(a, b=6, c=8):\n",
    "    print(a, b, c)\n",
    "func(1, 2)"
   ]
  },
  {
   "cell_type": "markdown",
   "id": "0f4ba959",
   "metadata": {},
   "source": [
    "**2. What is the result of this code, and why?**\n",
    "\n",
    "By default arguments given in the same order as function expects. But we can give certain argument value, and in the order of args in function"
   ]
  },
  {
   "cell_type": "code",
   "execution_count": 30,
   "id": "868102ec",
   "metadata": {},
   "outputs": [
    {
     "name": "stdout",
     "output_type": "stream",
     "text": [
      "1 2 3\n"
     ]
    }
   ],
   "source": [
    "def func(a, b, c=5):\n",
    "    print(a, b, c)\n",
    "func(1, c=3, b=2)"
   ]
  },
  {
   "cell_type": "markdown",
   "id": "c33299d2",
   "metadata": {},
   "source": [
    "**3. How about this code: what is its result, and why?**\n",
    "\n",
    "fisrt argumnt function assigns to a, all others to the list pargs"
   ]
  },
  {
   "cell_type": "code",
   "execution_count": 31,
   "id": "2ffcbcab",
   "metadata": {},
   "outputs": [
    {
     "name": "stdout",
     "output_type": "stream",
     "text": [
      "1 (2, 3)\n"
     ]
    }
   ],
   "source": [
    "def func(a, *pargs):\n",
    "    print(a, pargs)\n",
    "func(1, 2, 3)"
   ]
  },
  {
   "cell_type": "markdown",
   "id": "5731eee5",
   "metadata": {},
   "source": [
    "**4. What does this code print, and why?**\n",
    "\n",
    "fisrt argumnt function assigns to a, all others to the dict kargs"
   ]
  },
  {
   "cell_type": "code",
   "execution_count": 32,
   "id": "73460632",
   "metadata": {},
   "outputs": [
    {
     "name": "stdout",
     "output_type": "stream",
     "text": [
      "1 {'c': 3, 'b': 2}\n"
     ]
    }
   ],
   "source": [
    "def func(a, **kargs):\n",
    "    print(a, kargs)\n",
    "func(a=1, c=3, b=2)"
   ]
  },
  {
   "cell_type": "markdown",
   "id": "1ae0f27d",
   "metadata": {},
   "source": [
    "**5. What gets printed by this, and explain?**\n",
    "\n",
    "*(5,6) unfolds list. and 5 goes to b and 6 to c. we dont get fourth argument, d by default d equal 5"
   ]
  },
  {
   "cell_type": "code",
   "execution_count": 33,
   "id": "50d1580d",
   "metadata": {},
   "outputs": [
    {
     "name": "stdout",
     "output_type": "stream",
     "text": [
      "1 5 6 5\n"
     ]
    }
   ],
   "source": [
    "def func(a, b, c=8, d=5): print(a, b, c, d)\n",
    "func(1, *(5, 6))"
   ]
  },
  {
   "cell_type": "markdown",
   "id": "532a41c6",
   "metadata": {},
   "source": [
    "**6. what is the result of this, and explain?**\n",
    "\n",
    "Here in the code, the list and dict are passed as argument, and those are mutable. Here the list l and parametr b point \n",
    "to the same list in the memeory location where as dict n and c point to the same memory location. Any updates to this \n",
    "list will update in the memory location\n",
    "\n",
    "l = 1 , integer values, immutable, m is list, mutable, n is dict, mutable."
   ]
  },
  {
   "cell_type": "code",
   "execution_count": 34,
   "id": "15db3d1d",
   "metadata": {},
   "outputs": [
    {
     "data": {
      "text/plain": [
       "(1, ['x'], {'a': 'y'})"
      ]
     },
     "execution_count": 34,
     "metadata": {},
     "output_type": "execute_result"
    }
   ],
   "source": [
    "def func(a, b, c): \n",
    "    a = 2; \n",
    "    b[0] = 'x'; \n",
    "    c['a'] = 'y'\n",
    "l=1; m=[1]; n={'a':0}\n",
    "func(l, m, n)\n",
    "\n",
    "l, m, n"
   ]
  },
  {
   "cell_type": "code",
   "execution_count": null,
   "id": "01634269",
   "metadata": {},
   "outputs": [],
   "source": []
  },
  {
   "cell_type": "code",
   "execution_count": null,
   "id": "50eccdd9",
   "metadata": {},
   "outputs": [],
   "source": []
  }
 ],
 "metadata": {
  "kernelspec": {
   "display_name": "Python 3 (ipykernel)",
   "language": "python",
   "name": "python3"
  },
  "language_info": {
   "codemirror_mode": {
    "name": "ipython",
    "version": 3
   },
   "file_extension": ".py",
   "mimetype": "text/x-python",
   "name": "python",
   "nbconvert_exporter": "python",
   "pygments_lexer": "ipython3",
   "version": "3.9.12"
  }
 },
 "nbformat": 4,
 "nbformat_minor": 5
}
