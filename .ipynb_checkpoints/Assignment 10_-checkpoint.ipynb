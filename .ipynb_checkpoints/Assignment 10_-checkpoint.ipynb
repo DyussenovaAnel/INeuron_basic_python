{
 "cells": [
  {
   "cell_type": "raw",
   "id": "9fb2c6f0",
   "metadata": {},
   "source": [
    "1. How do you distinguish between shutil.copy() and shutil.copytree()?\n",
    "shutil.copy() - copy the file\n",
    "shutil.copytree() -  copy the entire directory\n",
    "\n",
    "2. What function is used to rename files??\n",
    "os.rename('from.txt', 'to.kml')\n",
    "\n",
    "3. What is the difference between the delete functions in the send2trash and shutil modules?\n",
    "The send2trash() function accepts the location of the file or folder to be deleted.\n",
    "shutil.rmtree() is used to delete an entire directory tree, the path must point to a directory\n",
    "\n",
    "4.ZipFile objects have a close() method just like File objects’ close() method. What ZipFile method is\n",
    "equivalent to File objects’ open() method?\n",
    "read()\n",
    "\n",
    "5. Create a programme that searches a folder tree for files with a certain file extension (such as .pdf\n",
    "or .jpg). Copy these files from whatever location they are in to a new folder.\n",
    "\n"
   ]
  }
 ],
 "metadata": {
  "kernelspec": {
   "display_name": "Python 3 (ipykernel)",
   "language": "python",
   "name": "python3"
  },
  "language_info": {
   "codemirror_mode": {
    "name": "ipython",
    "version": 3
   },
   "file_extension": ".py",
   "mimetype": "text/x-python",
   "name": "python",
   "nbconvert_exporter": "python",
   "pygments_lexer": "ipython3",
   "version": "3.9.12"
  }
 },
 "nbformat": 4,
 "nbformat_minor": 5
}
