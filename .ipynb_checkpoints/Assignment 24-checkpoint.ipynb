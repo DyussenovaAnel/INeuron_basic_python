{
 "cells": [
  {
   "cell_type": "markdown",
   "id": "19360f72",
   "metadata": {},
   "source": [
    "**1. What is the relationship between def statements and lambda expressions ?**\n",
    "\n",
    "def creates a function\n",
    "lambda creates small function\n",
    "\n",
    "**2. What is the benefit of lambda?**\n",
    "\n",
    "using lambda code looks more cleaner\n",
    "less lines of code \n",
    "looks more professional\n",
    "\n",
    "**3. Compare and contrast map, filter, and reduce.**\n",
    "\n",
    "All of them gets list and a function.\n",
    "The map() apply function to all the elements\n",
    "\n",
    "filter() add to list if function return true\n",
    "\n",
    "reduce() works by calling the function we passed for the first two items in the sequence. \n",
    "\n",
    "**4. What are function annotations, and how are they used?**\n",
    "\n",
    "Function annotations are arbitrary python expressions that are associated with various part of functions.\n",
    "Python supports dynamic typing and hence no module is provided for type checking. Annotations like\n",
    "\n",
    "**5. What are recursive functions, and how are they used?**\n",
    "\n",
    "recursive function call itself\n",
    "\n",
    "**6. What are some general design guidelines for coding functions?**\n",
    "\n",
    "Limited use of globals\n",
    "Error return values and exception handling conventions\n",
    "Code should be well documented\n",
    "Avoid using a coding style that is too difficult to understand\n",
    "Length of functions should not be very large\n",
    "\n",
    "**7. Name three or more ways that functions can communicate results to a caller.**\n",
    "1. return single value\n",
    "2. return multiple values, tuple\n",
    "3. return list,dictionary\n",
    "4. return function object\n",
    "5. return class object"
   ]
  },
  {
   "cell_type": "code",
   "execution_count": null,
   "id": "7f64a45d",
   "metadata": {},
   "outputs": [],
   "source": []
  }
 ],
 "metadata": {
  "kernelspec": {
   "display_name": "Python 3 (ipykernel)",
   "language": "python",
   "name": "python3"
  },
  "language_info": {
   "codemirror_mode": {
    "name": "ipython",
    "version": 3
   },
   "file_extension": ".py",
   "mimetype": "text/x-python",
   "name": "python",
   "nbconvert_exporter": "python",
   "pygments_lexer": "ipython3",
   "version": "3.9.12"
  }
 },
 "nbformat": 4,
 "nbformat_minor": 5
}
