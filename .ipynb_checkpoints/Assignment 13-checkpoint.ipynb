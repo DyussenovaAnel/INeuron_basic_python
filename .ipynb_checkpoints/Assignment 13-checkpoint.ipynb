{
 "cells": [
  {
   "cell_type": "markdown",
   "id": "99be3c70",
   "metadata": {},
   "source": [
    "**1. What advantages do Excel spreadsheets have over CSV spreadsheets?**\n",
    "\n",
    "1. It is a binary file that holds information about all the worksheets in a workbook\n",
    "2. It is easier to use outside the python"
   ]
  },
  {
   "cell_type": "markdown",
   "id": "f20dff58",
   "metadata": {},
   "source": [
    "**2. What do you pass to csv.reader() and csv.writer() to create reader and writer objects?**"
   ]
  },
  {
   "cell_type": "code",
   "execution_count": null,
   "id": "e96e2cea",
   "metadata": {},
   "outputs": [],
   "source": [
    "import csv\n",
    "file = open('example.csv')\n",
    "filereader = csv.reader(file)"
   ]
  },
  {
   "cell_type": "markdown",
   "id": "9257e19a",
   "metadata": {},
   "source": [
    "**3. What modes do File objects for reader and writer objects need to be opened in?**\n",
    "\n",
    "reader - rb \n",
    "write - wb"
   ]
  },
  {
   "cell_type": "markdown",
   "id": "c66043d0",
   "metadata": {},
   "source": [
    "**4. What method takes a list argument and writes it to a CSV file?**"
   ]
  },
  {
   "cell_type": "code",
   "execution_count": null,
   "id": "c019b63b",
   "metadata": {},
   "outputs": [],
   "source": [
    "import csv\n",
    "file = open('example.csv')\n",
    "filereader = csv.writer(file)\n",
    "a= [1,1,1,1,1]\n",
    "writer.writerows(a)"
   ]
  },
  {
   "cell_type": "markdown",
   "id": "4e9c0035",
   "metadata": {},
   "source": [
    "**5. What do the keyword arguments delimiter and line terminator do?**\n",
    "\n",
    "The delimiter argument separete text. \n",
    "The lineterminator argument changes the string used to separate rows."
   ]
  },
  {
   "cell_type": "markdown",
   "id": "e70b1d86",
   "metadata": {},
   "source": [
    "**6. What function takes a string of JSON data and returns a Python data structure?**\n",
    "\n",
    "import json\n",
    "decoded = json.loads(encoded)"
   ]
  },
  {
   "cell_type": "markdown",
   "id": "d88b793f",
   "metadata": {},
   "source": [
    "**7. What function takes a Python data structure and returns a string of JSON data?**\n",
    "json.dumps()\n"
   ]
  },
  {
   "cell_type": "code",
   "execution_count": null,
   "id": "fd179296",
   "metadata": {},
   "outputs": [],
   "source": []
  }
 ],
 "metadata": {
  "kernelspec": {
   "display_name": "Python 3 (ipykernel)",
   "language": "python",
   "name": "python3"
  },
  "language_info": {
   "codemirror_mode": {
    "name": "ipython",
    "version": 3
   },
   "file_extension": ".py",
   "mimetype": "text/x-python",
   "name": "python",
   "nbconvert_exporter": "python",
   "pygments_lexer": "ipython3",
   "version": "3.9.12"
  }
 },
 "nbformat": 4,
 "nbformat_minor": 5
}
