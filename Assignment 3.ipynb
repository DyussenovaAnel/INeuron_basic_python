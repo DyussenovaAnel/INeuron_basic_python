{
 "cells": [
  {
   "cell_type": "markdown",
   "id": "da77410a",
   "metadata": {},
   "source": [
    "**1. Why are functions advantageous to have in your programs?**\n",
    "\n",
    "For not repeating the same code a bunch of time, with function you can re-call it every time you need it\n",
    "\n",
    "**2. When does the code in a function run: when it's specified or when it's called?**\n",
    "\n",
    "When it's called\n",
    "\n",
    "**3. What statement creates a function?**\n",
    "\n",
    "def\n",
    "\n",
    "**4. What is the difference between a function and a function call?**\n",
    "\n",
    "\n",
    "**5. How many global scopes are there in a Python program? How many local scopes?**\n",
    "\n",
    "one global scope and number of functions equal to number local scopes\n",
    "\n",
    "**6. What happens to variables in a local scope when the function call returns?**\n",
    "\n",
    "Is destroyed. It is not accessible outside the function \n",
    "\n",
    "**7. What is the concept of a return value? Is it possible to have a return value in an expression?**\n",
    "\n",
    "return is a result of a function. Yes\n",
    "\n",
    "**8. If a function does not have a return statement, what is the return value of a call to that function?**\n",
    "\n",
    "None\n",
    "\n",
    "**9. How do you make a function variable refer to the global variable?**\n",
    "\n",
    "global variable_name\n",
    "\n",
    "**10. What is the data type of None?**\n",
    "\n",
    "NoneType\n",
    "\n",
    "**11. What does the sentence import areallyourpetsnamederic do?**\n",
    "\n",
    "returns error - ModuleNotFoundError: No module named 'areallyourpetsnamederic' \n",
    "\n",
    "**12. If you had a bacon() feature in a spam module, what would you call it after importing spam?**\n",
    "\n",
    "spam.bacon()\n",
    "\n",
    "**13. What can you do to save a programme from crashing if it encounters an error?**\n",
    "\n",
    "use try except statement\n",
    "\n",
    "**14. What is the purpose of the try clause? What is the purpose of the except clause?**\n",
    "\n",
    "try - execute the code\n",
    "except - catch error if it will be. "
   ]
  },
  {
   "cell_type": "code",
   "execution_count": 2,
   "id": "591baab8",
   "metadata": {},
   "outputs": [
    {
     "data": {
      "text/plain": [
       "NoneType"
      ]
     },
     "execution_count": 2,
     "metadata": {},
     "output_type": "execute_result"
    }
   ],
   "source": [
    "type(None)"
   ]
  },
  {
   "cell_type": "code",
   "execution_count": 3,
   "id": "2c063c03",
   "metadata": {},
   "outputs": [
    {
     "ename": "ModuleNotFoundError",
     "evalue": "No module named 'areallyourpetsnamederic'",
     "output_type": "error",
     "traceback": [
      "\u001b[1;31m---------------------------------------------------------------------------\u001b[0m",
      "\u001b[1;31mModuleNotFoundError\u001b[0m                       Traceback (most recent call last)",
      "Input \u001b[1;32mIn [3]\u001b[0m, in \u001b[0;36m<cell line: 1>\u001b[1;34m()\u001b[0m\n\u001b[1;32m----> 1\u001b[0m \u001b[38;5;28;01mimport\u001b[39;00m \u001b[38;5;21;01mareallyourpetsnamederic\u001b[39;00m\n",
      "\u001b[1;31mModuleNotFoundError\u001b[0m: No module named 'areallyourpetsnamederic'"
     ]
    }
   ],
   "source": [
    "import areallyourpetsnamederic"
   ]
  },
  {
   "cell_type": "code",
   "execution_count": null,
   "id": "f45c0c9a",
   "metadata": {},
   "outputs": [],
   "source": []
  }
 ],
 "metadata": {
  "kernelspec": {
   "display_name": "Python 3 (ipykernel)",
   "language": "python",
   "name": "python3"
  },
  "language_info": {
   "codemirror_mode": {
    "name": "ipython",
    "version": 3
   },
   "file_extension": ".py",
   "mimetype": "text/x-python",
   "name": "python",
   "nbconvert_exporter": "python",
   "pygments_lexer": "ipython3",
   "version": "3.9.12"
  }
 },
 "nbformat": 4,
 "nbformat_minor": 5
}
