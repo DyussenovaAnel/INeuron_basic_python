{
 "cells": [
  {
   "cell_type": "markdown",
   "id": "85228e49",
   "metadata": {},
   "source": [
    "**1. Is the Python Standard Library included with PyInputPlus?**\n",
    "\n",
    "no\n",
    "\n",
    "**2. Why is PyInputPlus commonly imported with import pyinputplus as pypi?**\n",
    "\n",
    "we need to import module. And we use \"as pypi\" for easier usage\n",
    "\n",
    "**3. How do you distinguish between inputInt() and inputFloat()?**\n",
    "\n",
    "inputInt() - accept just int\n",
    "inputFloat() - accept float and int? but convertes int to float\n",
    "\n",
    "**4. Using PyInputPlus, how do you ensure that the user enters a whole number between 0 and 99?**\n",
    "\n",
    "pypi.inputInt(min = 0, lessThan = 99)\n",
    "\n",
    "**5. What is transferred to the keyword arguments allowRegexes and blockRegexes?**\n",
    "\n",
    "allowlistRegexes - A sequence of regex str that will explicitly pass validation.\n",
    "blocklistRegexes - A sequence of regex str that, if matched, will explicitly fail validation.\n",
    "\n",
    "**6. If a blank input is entered three times, what does inputStr(limit=3) do?**\n",
    "\n",
    "RetryLimitException error\n",
    "\n",
    "**7. If blank input is entered three times, what does inputStr(limit=3, default='hello') do?**\n",
    "\n",
    "print default value 'hello'"
   ]
  },
  {
   "cell_type": "code",
   "execution_count": 1,
   "id": "e9e61571",
   "metadata": {},
   "outputs": [],
   "source": [
    "import pyinputplus as pypi\n"
   ]
  },
  {
   "cell_type": "code",
   "execution_count": 2,
   "id": "d680ee83",
   "metadata": {},
   "outputs": [
    {
     "name": "stdout",
     "output_type": "stream",
     "text": [
      "2\n"
     ]
    },
    {
     "data": {
      "text/plain": [
       "2"
      ]
     },
     "execution_count": 2,
     "metadata": {},
     "output_type": "execute_result"
    }
   ],
   "source": [
    "pypi.inputInt() "
   ]
  },
  {
   "cell_type": "code",
   "execution_count": 14,
   "id": "d2602988",
   "metadata": {},
   "outputs": [
    {
     "name": "stdout",
     "output_type": "stream",
     "text": [
      "\n",
      "Blank values are not allowed.\n",
      "\n",
      "Blank values are not allowed.\n",
      "\n",
      "Blank values are not allowed.\n"
     ]
    },
    {
     "data": {
      "text/plain": [
       "'hello'"
      ]
     },
     "execution_count": 14,
     "metadata": {},
     "output_type": "execute_result"
    }
   ],
   "source": [
    "pypi.inputStr(limit=3, default='hello')"
   ]
  },
  {
   "cell_type": "code",
   "execution_count": 10,
   "id": "d9db5840",
   "metadata": {},
   "outputs": [
    {
     "name": "stdout",
     "output_type": "stream",
     "text": [
      "567\n",
      "Number must be less than 99.\n",
      "-3\n",
      "Number must be at minimum 0.\n",
      "5\n"
     ]
    },
    {
     "data": {
      "text/plain": [
       "5"
      ]
     },
     "execution_count": 10,
     "metadata": {},
     "output_type": "execute_result"
    }
   ],
   "source": [
    "pypi.inputInt(min = 0, lessThan = 99)"
   ]
  },
  {
   "cell_type": "code",
   "execution_count": 12,
   "id": "0107918a",
   "metadata": {},
   "outputs": [
    {
     "ename": "AttributeError",
     "evalue": "module 'pyinputplus' has no attribute 'inputallowlistRegexes'",
     "output_type": "error",
     "traceback": [
      "\u001b[1;31m---------------------------------------------------------------------------\u001b[0m",
      "\u001b[1;31mAttributeError\u001b[0m                            Traceback (most recent call last)",
      "Input \u001b[1;32mIn [12]\u001b[0m, in \u001b[0;36m<cell line: 1>\u001b[1;34m()\u001b[0m\n\u001b[1;32m----> 1\u001b[0m \u001b[43mpypi\u001b[49m\u001b[38;5;241;43m.\u001b[39;49m\u001b[43minputallowlistRegexes\u001b[49m()\n",
      "\u001b[1;31mAttributeError\u001b[0m: module 'pyinputplus' has no attribute 'inputallowlistRegexes'"
     ]
    }
   ],
   "source": [
    "pypi.inputallowlistRegexes()"
   ]
  },
  {
   "cell_type": "code",
   "execution_count": null,
   "id": "72b7b852",
   "metadata": {},
   "outputs": [],
   "source": []
  }
 ],
 "metadata": {
  "kernelspec": {
   "display_name": "Python 3 (ipykernel)",
   "language": "python",
   "name": "python3"
  },
  "language_info": {
   "codemirror_mode": {
    "name": "ipython",
    "version": 3
   },
   "file_extension": ".py",
   "mimetype": "text/x-python",
   "name": "python",
   "nbconvert_exporter": "python",
   "pygments_lexer": "ipython3",
   "version": "3.9.12"
  }
 },
 "nbformat": 4,
 "nbformat_minor": 5
}
