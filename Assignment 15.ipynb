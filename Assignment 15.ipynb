{
 "cells": [
  {
   "cell_type": "markdown",
   "id": "f6f90e5d",
   "metadata": {},
   "source": [
    "**1.How many seconds are in an hour? Use the interactive interpreter as a calculator and multiply the number of seconds in a minute (60) by the number of minutes in an hour (also 60).**"
   ]
  },
  {
   "cell_type": "code",
   "execution_count": 1,
   "id": "21581e3f",
   "metadata": {},
   "outputs": [
    {
     "data": {
      "text/plain": [
       "3600"
      ]
     },
     "execution_count": 1,
     "metadata": {},
     "output_type": "execute_result"
    }
   ],
   "source": [
    "60*60"
   ]
  },
  {
   "cell_type": "markdown",
   "id": "7b1f7deb",
   "metadata": {},
   "source": [
    "**2. Assign the result from the previous task (seconds in an hour) to a variable called seconds_per_hour.**"
   ]
  },
  {
   "cell_type": "code",
   "execution_count": 2,
   "id": "63db7ddb",
   "metadata": {},
   "outputs": [],
   "source": [
    "seconds_per_hour = 60*60"
   ]
  },
  {
   "cell_type": "markdown",
   "id": "70da39a6",
   "metadata": {},
   "source": [
    "**3. How many seconds do you think there are in a day? Make use of the variables seconds per hour and minutes per hour.**"
   ]
  },
  {
   "cell_type": "code",
   "execution_count": 3,
   "id": "e4500dd0",
   "metadata": {},
   "outputs": [
    {
     "data": {
      "text/plain": [
       "86400"
      ]
     },
     "execution_count": 3,
     "metadata": {},
     "output_type": "execute_result"
    }
   ],
   "source": [
    "seconds_per_hour * 24"
   ]
  },
  {
   "cell_type": "markdown",
   "id": "2a7d27de",
   "metadata": {},
   "source": [
    "**4. Calculate seconds per day again, but this time save the result in a variable called seconds_per_day**"
   ]
  },
  {
   "cell_type": "code",
   "execution_count": 4,
   "id": "6a65d882",
   "metadata": {},
   "outputs": [],
   "source": [
    "seconds_per_day = seconds_per_hour * 24"
   ]
  },
  {
   "cell_type": "markdown",
   "id": "43cfd727",
   "metadata": {},
   "source": [
    "**5. Divide seconds_per_day by seconds_per_hour. Use floating-point (/) division.**"
   ]
  },
  {
   "cell_type": "code",
   "execution_count": 6,
   "id": "126779e3",
   "metadata": {},
   "outputs": [
    {
     "data": {
      "text/plain": [
       "24.0"
      ]
     },
     "execution_count": 6,
     "metadata": {},
     "output_type": "execute_result"
    }
   ],
   "source": [
    "seconds_per_day/seconds_per_hour"
   ]
  },
  {
   "cell_type": "markdown",
   "id": "8964b5bf",
   "metadata": {},
   "source": [
    "**6. Divide seconds_per_day by seconds_per_hour, using integer (//) division. Did this number agree with the floating-point value from the previous question, aside from the final .0?** \n",
    "\n",
    "Yes"
   ]
  },
  {
   "cell_type": "code",
   "execution_count": 7,
   "id": "3f77f2a6",
   "metadata": {},
   "outputs": [
    {
     "data": {
      "text/plain": [
       "24"
      ]
     },
     "execution_count": 7,
     "metadata": {},
     "output_type": "execute_result"
    }
   ],
   "source": [
    "seconds_per_day//seconds_per_hour "
   ]
  },
  {
   "cell_type": "markdown",
   "id": "64365cd3",
   "metadata": {},
   "source": [
    "**7. Write a generator, genPrimes, that returns the sequence of prime numbers on successive calls to its next() method: 2, 3, 5, 7, 11, ...**"
   ]
  },
  {
   "cell_type": "code",
   "execution_count": 29,
   "id": "8211f136",
   "metadata": {},
   "outputs": [],
   "source": [
    "def myGen(n):\n",
    "    odds = range(3, n+1, 2)\n",
    "    sieve = set(sum([list(range(q*q, n+1, q+q)) for q in odds], []))\n",
    "    arr = [2] + [p for p in odds if p not in sieve]\n",
    "    for a in arr:\n",
    "        yield a"
   ]
  },
  {
   "cell_type": "code",
   "execution_count": 30,
   "id": "4b344fbe",
   "metadata": {},
   "outputs": [],
   "source": [
    "g = myGen(8)"
   ]
  },
  {
   "cell_type": "code",
   "execution_count": 31,
   "id": "73b04563",
   "metadata": {},
   "outputs": [
    {
     "data": {
      "text/plain": [
       "2"
      ]
     },
     "execution_count": 31,
     "metadata": {},
     "output_type": "execute_result"
    }
   ],
   "source": [
    "next(g)"
   ]
  },
  {
   "cell_type": "code",
   "execution_count": null,
   "id": "d6b17c5f",
   "metadata": {},
   "outputs": [],
   "source": []
  }
 ],
 "metadata": {
  "kernelspec": {
   "display_name": "Python 3 (ipykernel)",
   "language": "python",
   "name": "python3"
  },
  "language_info": {
   "codemirror_mode": {
    "name": "ipython",
    "version": 3
   },
   "file_extension": ".py",
   "mimetype": "text/x-python",
   "name": "python",
   "nbconvert_exporter": "python",
   "pygments_lexer": "ipython3",
   "version": "3.9.12"
  }
 },
 "nbformat": 4,
 "nbformat_minor": 5
}
