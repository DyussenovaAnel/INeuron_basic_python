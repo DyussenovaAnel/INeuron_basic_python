{
 "cells": [
  {
   "cell_type": "markdown",
   "id": "aa2e456c",
   "metadata": {},
   "source": [
    "**1. What are escape characters, and how do you use them?**\n",
    "\n",
    "To insert characters that are illegal in a string, use an escape character.\n",
    "\\'\tSingle Quote\t\n",
    "\\\\\tBackslash\t\n",
    "\\n\tNew Line\t\n",
    "\\r\tCarriage Return\t\n",
    "\\t\tTab\t\n",
    "\\b\tBackspace\t\n",
    "\\f\tForm Feed\t\n",
    "\\ooo\tOctal value\t\n",
    "\\xhh\tHex value\n",
    "\n",
    "**2. What do the escape characters n and t stand for?**\n",
    "\n",
    "\\n\tNew Line\n",
    "\\t\tTab\t\n",
    "\n",
    "**3. What is the way to include backslash characters in a string?**\n",
    "\n",
    "\\\\\tBackslash\n",
    "\n",
    "**4. The string \"Howl's Moving Castle\" is a correct value. Why isn't the single quote character in the**\n",
    "\n",
    "word Howl's not escaped a problem?\n",
    "Because single quote inside double quote.\n",
    "'Howl's Moving Castle' - like this, it will give an error \n",
    "\n",
    "**5. How do you write a string of newlines if you don't want to use the n character?**\n",
    "\n",
    "use multiple prints\n",
    "\n",
    "**6. What are the values of the given expressions?**\n",
    "\n",
    "'Hello, world!'[1] -> e\n",
    "'Hello, world!'[0:5] -> Hello\n",
    "'Hello, world!'[:5] -> Hello\n",
    "'Hello, world!'[3:] -> lo, world!\n",
    "\n",
    "**7. What are the values of the following expressions?**\n",
    "\n",
    "'Hello'.upper() -> HELLO\n",
    "'Hello'.upper().isupper() -> True\n",
    "'Hello'.upper().lower() -> hello\n",
    "\n",
    "**8. What are the values of the following expressions?**\n",
    "\n",
    "'Remember, remember, the fifth of July.'.split() -> ['Remember,', 'remember,', 'the', 'fifth', 'of', 'July.']\n",
    "'-'.join('There can only one.'.split()) -> 'There-can-only-one.'\n",
    "\n",
    "**9. What are the methods for right-justifying, left-justifying, and centering a string?**\n",
    "\n",
    "centering - string.center(length_of_expected_string, \" \")\n",
    "\n",
    "\n",
    "**10. What is the best way to remove whitespace characters from the start or end?**\n",
    "\n",
    "start - string.lstrip()\n",
    "end - string.rstrip()"
   ]
  },
  {
   "cell_type": "code",
   "execution_count": null,
   "id": "fc4bafc7",
   "metadata": {},
   "outputs": [],
   "source": []
  }
 ],
 "metadata": {
  "kernelspec": {
   "display_name": "Python 3 (ipykernel)",
   "language": "python",
   "name": "python3"
  },
  "language_info": {
   "codemirror_mode": {
    "name": "ipython",
    "version": 3
   },
   "file_extension": ".py",
   "mimetype": "text/x-python",
   "name": "python",
   "nbconvert_exporter": "python",
   "pygments_lexer": "ipython3",
   "version": "3.9.12"
  }
 },
 "nbformat": 4,
 "nbformat_minor": 5
}
