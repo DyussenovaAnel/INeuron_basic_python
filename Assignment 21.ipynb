{
 "cells": [
  {
   "cell_type": "markdown",
   "id": "f3484c68",
   "metadata": {},
   "source": [
    "**1. Add the current date to the text file today.txt as a string.**"
   ]
  },
  {
   "cell_type": "code",
   "execution_count": 13,
   "id": "b34b13b2",
   "metadata": {},
   "outputs": [
    {
     "data": {
      "text/plain": [
       "17"
      ]
     },
     "execution_count": 13,
     "metadata": {},
     "output_type": "execute_result"
    }
   ],
   "source": [
    "import datetime\n",
    "now = datetime.datetime.now()\n",
    "date = \"{:%B %d, %Y}\".format(datetime.datetime.now())\n",
    "fileObj = open('today.txt','w')\n",
    "fileObj.write(date)"
   ]
  },
  {
   "cell_type": "markdown",
   "id": "b652a089",
   "metadata": {},
   "source": [
    "**2. Read the text file today.txt into the string today_string**"
   ]
  },
  {
   "cell_type": "code",
   "execution_count": 14,
   "id": "468a59c2",
   "metadata": {},
   "outputs": [
    {
     "data": {
      "text/plain": [
       "'November 05, 2022'"
      ]
     },
     "execution_count": 14,
     "metadata": {},
     "output_type": "execute_result"
    }
   ],
   "source": [
    "fileObj = open('today.txt','r')\n",
    "today_string = fileObj.read()\n",
    "today_string"
   ]
  },
  {
   "cell_type": "markdown",
   "id": "f06293ec",
   "metadata": {},
   "source": [
    "**3. Parse the date from today_string.**"
   ]
  },
  {
   "cell_type": "code",
   "execution_count": 57,
   "id": "c2d9d842",
   "metadata": {},
   "outputs": [
    {
     "data": {
      "text/plain": [
       "datetime.date(2022, 11, 5)"
      ]
     },
     "execution_count": 57,
     "metadata": {},
     "output_type": "execute_result"
    }
   ],
   "source": [
    "datetime.datetime.strptime(today_string, \"%B %d, %Y\").date()"
   ]
  },
  {
   "cell_type": "markdown",
   "id": "c934764e",
   "metadata": {},
   "source": [
    "**4. List the files in your current directory**"
   ]
  },
  {
   "cell_type": "code",
   "execution_count": 20,
   "id": "2a1d2a66",
   "metadata": {},
   "outputs": [
    {
     "data": {
      "text/plain": [
       "['.ipynb_checkpoints',\n",
       " 'Assignment 11.ipynb',\n",
       " 'Assignment 12.ipynb',\n",
       " 'Assignment 13.ipynb',\n",
       " 'Assignment 14.ipynb',\n",
       " 'Assignment 15.ipynb',\n",
       " 'Assignment 16.ipynb',\n",
       " 'Assignment 17.ipynb',\n",
       " 'Assignment 18.ipynb',\n",
       " 'Assignment 19.ipynb',\n",
       " 'Assignment 2.ipynb',\n",
       " 'Assignment 20.ipynb',\n",
       " 'Assignment 4.ipynb',\n",
       " 'Assignment 5.ipynb',\n",
       " 'Assignment 6.ipynb',\n",
       " 'Assignment 8.ipynb',\n",
       " 'Assignment 9.ipynb',\n",
       " 'books.csv',\n",
       " 'books.db',\n",
       " 'logging.log',\n",
       " 'test.txt',\n",
       " 'today.txt',\n",
       " 'Unfinished Assignment 10.ipynb',\n",
       " 'Unfinished Assignment 3.ipynb',\n",
       " 'Unfinished Assignment 7.ipynb',\n",
       " 'Untitled.ipynb',\n",
       " 'zoo.py',\n",
       " '__pycache__']"
      ]
     },
     "execution_count": 20,
     "metadata": {},
     "output_type": "execute_result"
    }
   ],
   "source": [
    "import os\n",
    "os.listdir()"
   ]
  },
  {
   "cell_type": "markdown",
   "id": "edfca5d2",
   "metadata": {},
   "source": [
    "**5. Create a list of all of the files in your parent directory (minimum five files should be available).**"
   ]
  },
  {
   "cell_type": "code",
   "execution_count": 22,
   "id": "cc0840ed",
   "metadata": {},
   "outputs": [
    {
     "data": {
      "text/plain": [
       "['New folder',\n",
       " 'Python Advance Assignment',\n",
       " 'Python Advance programming Assignment',\n",
       " 'Python Basic Assignmant',\n",
       " 'Python programming Basic Assignment']"
      ]
     },
     "execution_count": 22,
     "metadata": {},
     "output_type": "execute_result"
    }
   ],
   "source": [
    "os.listdir('..')"
   ]
  },
  {
   "cell_type": "markdown",
   "id": "ce970b7b",
   "metadata": {},
   "source": [
    "**6. Use multiprocessing to create three separate processes. Make each one wait a random number of\n",
    "seconds between one and five, print the current time, and then exit.**"
   ]
  },
  {
   "cell_type": "code",
   "execution_count": 51,
   "id": "133349fd",
   "metadata": {},
   "outputs": [
    {
     "data": {
      "text/plain": [
       "4"
      ]
     },
     "execution_count": 51,
     "metadata": {},
     "output_type": "execute_result"
    }
   ],
   "source": [
    "from multiprocessing import Pool, Process\n",
    "import random\n",
    "from time import sleep\n",
    "random.randint(1, 5)"
   ]
  },
  {
   "cell_type": "code",
   "execution_count": 56,
   "id": "9d64aef0",
   "metadata": {},
   "outputs": [
    {
     "name": "stdout",
     "output_type": "stream",
     "text": [
      "2022-11-05 22:03:24.369760\n"
     ]
    }
   ],
   "source": [
    "def printsec():\n",
    "    print(datetime.datetime.now())\n",
    "\n",
    "for i in range(0,3):\n",
    "    proc = Process(target=printsec)\n",
    "    wait = random.randint(1, 5)\n",
    "    sleep(wait)\n",
    "print(datetime.datetime.now())\n",
    "\n",
    "# proc = Pool(processes=4)\n",
    "# e = random.randint(1, 5)\n",
    "# res = proc.apply_async(printsec)\n",
    "# res2 = proc.apply_async(printsec)\n",
    "# res3 = proc.apply_async(printsec)\n",
    "# res.wait(timeout=e)\n",
    "# res2.wait(timeout=e)\n",
    "# res3.wait(timeout=e)\n",
    "# print(res)\n",
    "# print result2.get(timeout=random.randint(1, 5))\n",
    "# print result3.get(timeout=random.randint(1, 5))\n",
    "# print pool.map(f, range(10))"
   ]
  },
  {
   "cell_type": "markdown",
   "id": "b9a945b2",
   "metadata": {},
   "source": [
    "**7. Create a date object of your day of birth.**"
   ]
  },
  {
   "cell_type": "code",
   "execution_count": 59,
   "id": "a0b938c3",
   "metadata": {},
   "outputs": [
    {
     "data": {
      "text/plain": [
       "2"
      ]
     },
     "execution_count": 59,
     "metadata": {},
     "output_type": "execute_result"
    }
   ],
   "source": [
    "datetime.datetime.strptime(\"April 26, 2000\", \"%B %d, %Y\").date()"
   ]
  },
  {
   "cell_type": "markdown",
   "id": "a6998397",
   "metadata": {},
   "source": [
    "**8. What day of the week was your day of birth?**"
   ]
  },
  {
   "cell_type": "code",
   "execution_count": 61,
   "id": "278bde45",
   "metadata": {},
   "outputs": [
    {
     "data": {
      "text/plain": [
       "'Wednesday'"
      ]
     },
     "execution_count": 61,
     "metadata": {},
     "output_type": "execute_result"
    }
   ],
   "source": [
    "import calendar\n",
    "calendar.day_name[datetime.datetime.strptime(\"April 26, 2000\", \"%B %d, %Y\").weekday()]"
   ]
  },
  {
   "cell_type": "markdown",
   "id": "5bd083cf",
   "metadata": {},
   "source": [
    "**9. When will you be (or when were you) 10,000 days old?**"
   ]
  },
  {
   "cell_type": "code",
   "execution_count": 67,
   "id": "50a86b2a",
   "metadata": {},
   "outputs": [
    {
     "data": {
      "text/plain": [
       "datetime.date(2027, 9, 12)"
      ]
     },
     "execution_count": 67,
     "metadata": {},
     "output_type": "execute_result"
    }
   ],
   "source": [
    "datetime.datetime.strptime(\"April 26, 2000\", \"%B %d, %Y\").date()+datetime.timedelta(days=10000)\n"
   ]
  },
  {
   "cell_type": "code",
   "execution_count": null,
   "id": "bb9df8f0",
   "metadata": {},
   "outputs": [],
   "source": []
  }
 ],
 "metadata": {
  "kernelspec": {
   "display_name": "Python 3 (ipykernel)",
   "language": "python",
   "name": "python3"
  },
  "language_info": {
   "codemirror_mode": {
    "name": "ipython",
    "version": 3
   },
   "file_extension": ".py",
   "mimetype": "text/x-python",
   "name": "python",
   "nbconvert_exporter": "python",
   "pygments_lexer": "ipython3",
   "version": "3.9.12"
  }
 },
 "nbformat": 4,
 "nbformat_minor": 5
}
