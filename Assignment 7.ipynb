{
 "cells": [
  {
   "cell_type": "markdown",
   "id": "42cfb48d",
   "metadata": {},
   "source": [
    "**1. What is the name of the feature responsible for generating Regex objects?**\n",
    "re module\n",
    "\n",
    "**2. Why do raw strings often appear in Regex objects?**\n",
    "because we usually need to text contain some words\n",
    "\n",
    "**3. What is the return value of the search() method?**\n",
    "The search() method returns the index (position) of the first match of substring \n",
    "\n",
    "**4. From a Match item, how do you get the actual strings that match the pattern**\n",
    "using re.MatchObject.group(0)\n",
    "\n",
    "**5. In the regex which created from the r'(\\d\\d\\d)-(\\d\\d\\d-\\d\\d\\d\\d)', what does group zero cover?\n",
    "Group 2? Group 1?**\n",
    "group(0) locates the whole match expression\n",
    "group(1) means the first paranthesis pair locates matching expression 1\n",
    "group(2) says the second next paranthesis pair locates the match expression 2\n"
   ]
  },
  {
   "cell_type": "code",
   "execution_count": null,
   "id": "9fb367b6",
   "metadata": {},
   "outputs": [],
   "source": []
  }
 ],
 "metadata": {
  "kernelspec": {
   "display_name": "Python 3 (ipykernel)",
   "language": "python",
   "name": "python3"
  },
  "language_info": {
   "codemirror_mode": {
    "name": "ipython",
    "version": 3
   },
   "file_extension": ".py",
   "mimetype": "text/x-python",
   "name": "python",
   "nbconvert_exporter": "python",
   "pygments_lexer": "ipython3",
   "version": "3.9.12"
  }
 },
 "nbformat": 4,
 "nbformat_minor": 5
}
